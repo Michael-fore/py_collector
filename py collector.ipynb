{
 "cells": [
  {
   "cell_type": "markdown",
   "metadata": {},
   "source": [
    "## py_collector\n",
    "\n",
    "Generic file, api, and data monitoring system. Platform and db agnostic.\n",
    "\n"
   ]
  },
  {
   "cell_type": "code",
   "execution_count": 75,
   "metadata": {},
   "outputs": [],
   "source": [
    "from datetime import datetime, timezone, timedelta\n",
    "from threading import Thread, Event\n",
    "\n",
    "class Scheduler(Thread):\n",
    "    ''' Controls scheduling for py_curator\n",
    "    \n",
    "    Based havily on Timer implementation here\n",
    "    https://github.com/python/cpython/blob/3.9/Lib/threading.py\n",
    "    '''\n",
    "    initial_run = True\n",
    "    \n",
    "    def __init__(self, start_time=None, milliseconds=0, seconds=0, days=0,minutes=0, weeks=0,\n",
    "                 timezone = None, count=1, separator=1 ):\n",
    "        \n",
    "        Thread.__init__(self)\n",
    "        self.finished = Event()\n",
    "        self.count = count\n",
    "        self.separator_delta =separator\n",
    "        start_time = datetime.now() if start_time == None else start_time\n",
    "        \n",
    "        self.start_diff = abs(round((datetime.now() - start_time).total_seconds(),3))\n",
    "        self.delta = timedelta(weeks=weeks, \n",
    "                               days=days, \n",
    "                               minutes=minutes, \n",
    "                               seconds=seconds, \n",
    "                               milliseconds=milliseconds).total_seconds()\n",
    "    \n",
    "    def cancel(self):\n",
    "        self.finished.set()\n",
    "        \n",
    "    def init_run(self, func):\n",
    "        ''' initial run to handle the wait'''\n",
    "        if self.initial_run:\n",
    "            self.initial_run = False\n",
    "            self.finished.wait(self.start_diff)\n",
    "            func()\n",
    "            \n",
    "    def schedule(self, func):\n",
    "        ''' takes in a last run datetime, if the specified time interval + last run = \n",
    "        _now, return true, otherwise false'''\n",
    "        \n",
    "        self.init_run(func)\n",
    "            \n",
    "        self.finished.wait(self.delta)\n",
    "        for i in range(self.count):\n",
    "            func()\n",
    "            self.finished.wait(self.separator_delta)\n",
    "            \n",
    "        self.schedule(func)\n",
    "\n",
    "class Collector:\n",
    "    \n",
    "    def upload(self)->None:\n",
    "        ''' What errors should be here?'''\n",
    "        raise NotImplementedError('Please see documentation for implementation example')\n",
    "    \n",
    "    def is_new(self)->bool:\n",
    "        raise NotImplementedError('Please see documentation for implementation example')\n",
    "        \n",
    "    def orchestrate(self):\n",
    "        if self.is_new():\n",
    "            self.upload()\n",
    "            self.last_run = datetime.now()\n",
    "        \n",
    "    def monitor(self)->None:\n",
    "        \n",
    "        self.scheduler.schedule(self.orchestrate)\n",
    "        "
   ]
  },
  {
   "cell_type": "code",
   "execution_count": 76,
   "metadata": {},
   "outputs": [],
   "source": [
    "class test(Collector):\n",
    "    start_time = datetime(year=2021, month=6, day=28, hour=19, minute=39, second=0)\n",
    "    scheduler = Scheduler(seconds=3, count=1, separator=1,start_time = start_time)\n",
    "    \n",
    "    def upload(self):\n",
    "        print(datetime.now())\n",
    "        print('Loaded!')\n",
    "        \n",
    "    def is_new(self):\n",
    "        return True"
   ]
  },
  {
   "cell_type": "code",
   "execution_count": 77,
   "metadata": {},
   "outputs": [
    {
     "data": {
      "text/plain": [
       "1"
      ]
     },
     "execution_count": 77,
     "metadata": {},
     "output_type": "execute_result"
    }
   ],
   "source": [
    "t = test()\n",
    "t.scheduler.count"
   ]
  },
  {
   "cell_type": "code",
   "execution_count": null,
   "metadata": {},
   "outputs": [],
   "source": [
    "t.monitor()"
   ]
  },
  {
   "cell_type": "code",
   "execution_count": null,
   "metadata": {},
   "outputs": [],
   "source": [
    "for i in range(2):\n",
    "    print(i)"
   ]
  },
  {
   "cell_type": "code",
   "execution_count": null,
   "metadata": {},
   "outputs": [],
   "source": []
  },
  {
   "cell_type": "code",
   "execution_count": null,
   "metadata": {},
   "outputs": [],
   "source": []
  }
 ],
 "metadata": {
  "kernelspec": {
   "display_name": "Python 3",
   "language": "python",
   "name": "python3"
  },
  "language_info": {
   "codemirror_mode": {
    "name": "ipython",
    "version": 3
   },
   "file_extension": ".py",
   "mimetype": "text/x-python",
   "name": "python",
   "nbconvert_exporter": "python",
   "pygments_lexer": "ipython3",
   "version": "3.6.5"
  }
 },
 "nbformat": 4,
 "nbformat_minor": 2
}
