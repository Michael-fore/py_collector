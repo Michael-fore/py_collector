{
 "cells": [
  {
   "cell_type": "markdown",
   "metadata": {},
   "source": [
    "## py_collector\n",
    "\n",
    "Generic file, api, and data monitoring system. Platform and db agnostic.\n",
    "\n"
   ]
  },
  {
   "cell_type": "code",
   "execution_count": 3,
   "metadata": {},
   "outputs": [],
   "source": [
    "from datetime import datetime, timezone, timedelta\n",
    "from threading import Thread, Event\n",
    "import threading\n",
    "import signal\n",
    "\n",
    "class Scheduler(Thread):\n",
    "    ''' Controls scheduling for py_curator\n",
    "    \n",
    "    Based havily on Timer implementation here\n",
    "    https://github.com/python/cpython/blob/3.9/Lib/threading.py\n",
    "    '''\n",
    "    initial_run = True\n",
    "    alive = True\n",
    "    \n",
    "    def __init__(self, start_time=None, milliseconds=0, seconds=0, days=0,minutes=0, weeks=0,\n",
    "                 timezone = None, count=1, separator=1 ):\n",
    "        signal.signal(signal.SIGINT, self.cancel)\n",
    "        Thread.__init__(self)\n",
    "        self.finished = Event()\n",
    "        self.count = count\n",
    "        self.separator_delta =separator\n",
    "        start_time = datetime.now() if start_time == None else start_time\n",
    "        \n",
    "        self.start_diff = abs(round((datetime.now() - start_time).total_seconds(),3))\n",
    "        self.delta = timedelta(weeks=weeks, \n",
    "                               days=days, \n",
    "                               minutes=minutes, \n",
    "                               seconds=seconds, \n",
    "                               milliseconds=milliseconds).total_seconds()\n",
    "    \n",
    "    def cancel(self):\n",
    "        print('Killing...')\n",
    "        self.alive = False\n",
    "        #self.finished.set()\n",
    "        \n",
    "    def init_run(self, func):\n",
    "        ''' initial run to handle the wait'''\n",
    "        if self.initial_run:\n",
    "            self.initial_run = False\n",
    "            self.finished.wait(self.start_diff)\n",
    "            func()\n",
    "    \n",
    "            \n",
    "    def schedule(self, func):\n",
    "        ''' takes in a last run datetime, if the specified time interval + last run = \n",
    "        _now, return true, otherwise false'''\n",
    "        \n",
    "        while self.alive:\n",
    "            self.init_run(func)\n",
    "\n",
    "            self.finished.wait(self.delta)\n",
    "            for i in range(self.count):\n",
    "                func()\n",
    "                self.finished.wait(self.separator_delta)\n",
    "\n",
    "            self.schedule(func)\n",
    "\n",
    "class Collector:\n",
    "    \n",
    "    def upload(self)->None:\n",
    "        ''' What errors should be here?'''\n",
    "        raise NotImplementedError('Please see documentation for implementation example')\n",
    "    \n",
    "    def is_new(self)->bool:\n",
    "        raise NotImplementedError('Please see documentation for implementation example')\n",
    "        \n",
    "    def orchestrate(self):\n",
    "        if self.is_new():\n",
    "            self.upload()\n",
    "            self.last_run = datetime.now()\n",
    "        \n",
    "    def monitor(self)->None:\n",
    "        \n",
    "        self.scheduler.schedule(self.orchestrate)\n",
    "        "
   ]
  },
  {
   "cell_type": "code",
   "execution_count": 4,
   "metadata": {},
   "outputs": [],
   "source": [
    "class test(Collector):\n",
    "    #start_time = datetime(year=2021, month=6, day=28, hour=21, minute=39, second=0)\n",
    "    scheduler = Scheduler(seconds=3, count=1, separator=1)\n",
    "    \n",
    "    def upload(self):\n",
    "        print(datetime.now())\n",
    "        print('OG Collector')\n",
    "        \n",
    "    def is_new(self):\n",
    "        return True\n",
    "    \n",
    "class test1(Collector):\n",
    "    scheduler = Scheduler(seconds=3, count=1, separator=1)\n",
    "    \n",
    "    def upload(self):\n",
    "        print('Collector 1')\n",
    "        \n",
    "    def is_new(self):\n",
    "        return True"
   ]
  },
  {
   "cell_type": "code",
   "execution_count": 5,
   "metadata": {},
   "outputs": [],
   "source": [
    "t0 = test()\n",
    "t1 = test1()"
   ]
  },
  {
   "cell_type": "code",
   "execution_count": 6,
   "metadata": {},
   "outputs": [],
   "source": [
    "th1 = threading.Thread( target=t0.monitor, daemon = True)\n",
    "th2 = threading.Thread( target=t1.monitor, daemon = True)"
   ]
  },
  {
   "cell_type": "code",
   "execution_count": 7,
   "metadata": {},
   "outputs": [
    {
     "name": "stdout",
     "output_type": "stream",
     "text": [
      "2021-06-28 21:30:23.272921\n",
      "OG Collector\n",
      "Collector 1\n",
      "2021-06-28 21:30:26.277837\n",
      "OG Collector\n",
      "Collector 1\n",
      "2021-06-28 21:30:30.282809\n",
      "OG Collector\n",
      "Collector 1\n",
      "2021-06-28 21:30:34.286503\n",
      "OG Collector\n",
      "Collector 1\n"
     ]
    }
   ],
   "source": [
    "th1.start()\n",
    "th2.start()"
   ]
  },
  {
   "cell_type": "code",
   "execution_count": null,
   "metadata": {},
   "outputs": [],
   "source": [
    "th1.start()\n",
    "th2.start()for i in range(2):\n",
    "    print(i)"
   ]
  },
  {
   "cell_type": "code",
   "execution_count": null,
   "metadata": {},
   "outputs": [],
   "source": [
    "th1.join()\n",
    "th2.start()"
   ]
  },
  {
   "cell_type": "code",
   "execution_count": 6,
   "metadata": {},
   "outputs": [
    {
     "data": {
      "text/plain": [
       "['__class__',\n",
       " '__delattr__',\n",
       " '__dict__',\n",
       " '__dir__',\n",
       " '__doc__',\n",
       " '__eq__',\n",
       " '__format__',\n",
       " '__ge__',\n",
       " '__getattribute__',\n",
       " '__gt__',\n",
       " '__hash__',\n",
       " '__init__',\n",
       " '__init_subclass__',\n",
       " '__le__',\n",
       " '__lt__',\n",
       " '__module__',\n",
       " '__ne__',\n",
       " '__new__',\n",
       " '__reduce__',\n",
       " '__reduce_ex__',\n",
       " '__repr__',\n",
       " '__setattr__',\n",
       " '__sizeof__',\n",
       " '__str__',\n",
       " '__subclasshook__',\n",
       " '__weakref__',\n",
       " '_args',\n",
       " '_bootstrap',\n",
       " '_bootstrap_inner',\n",
       " '_daemonic',\n",
       " '_delete',\n",
       " '_exc_info',\n",
       " '_ident',\n",
       " '_initialized',\n",
       " '_is_stopped',\n",
       " '_kwargs',\n",
       " '_name',\n",
       " '_reset_internal_locks',\n",
       " '_set_ident',\n",
       " '_set_tstate_lock',\n",
       " '_started',\n",
       " '_stderr',\n",
       " '_stop',\n",
       " '_target',\n",
       " '_tstate_lock',\n",
       " '_wait_for_tstate_lock',\n",
       " 'daemon',\n",
       " 'getName',\n",
       " 'ident',\n",
       " 'isAlive',\n",
       " 'isDaemon',\n",
       " 'is_alive',\n",
       " 'join',\n",
       " 'name',\n",
       " 'run',\n",
       " 'setDaemon',\n",
       " 'setName',\n",
       " 'start']"
      ]
     },
     "execution_count": 6,
     "metadata": {},
     "output_type": "execute_result"
    },
    {
     "name": "stdout",
     "output_type": "stream",
     "text": [
      "2021-06-28 21:13:53.682080\n",
      "OG Collector\n",
      "Collector 1\n",
      "2021-06-28 21:13:57.689147\n",
      "OG Collector\n",
      "Collector 1\n",
      "2021-06-28 21:14:01.690788\n",
      "OG Collector\n",
      "Collector 1\n"
     ]
    }
   ],
   "source": [
    "dir(th1)"
   ]
  },
  {
   "cell_type": "code",
   "execution_count": null,
   "metadata": {},
   "outputs": [],
   "source": []
  }
 ],
 "metadata": {
  "kernelspec": {
   "display_name": "Python 3",
   "language": "python",
   "name": "python3"
  },
  "language_info": {
   "codemirror_mode": {
    "name": "ipython",
    "version": 3
   },
   "file_extension": ".py",
   "mimetype": "text/x-python",
   "name": "python",
   "nbconvert_exporter": "python",
   "pygments_lexer": "ipython3",
   "version": "3.6.5"
  }
 },
 "nbformat": 4,
 "nbformat_minor": 2
}
